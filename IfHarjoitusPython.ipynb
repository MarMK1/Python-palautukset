{
 "cells": [
  {
   "cell_type": "code",
   "execution_count": 20,
   "metadata": {},
   "outputs": [
    {
     "name": "stdout",
     "output_type": "stream",
     "text": [
      "Numbers are equal\n",
      "number1 is not greater than number2\n",
      "number1 is greater or equal to number2\n"
     ]
    }
   ],
   "source": [
    "number1=1\n",
    "number2=1\n",
    "\n",
    "if number1 == number2: print(\"Numbers are equal\")\n",
    "\n",
    "if number1>number2: print(\"number1 is greater than number2\")\n",
    "else: print(\"number1 is not greater than number2\")\n",
    "\n",
    "if number1>=number2: print(\"number1 is greater or equal to number2\")\n",
    "else: print(\"number1 is not greater or equal to number2\")\n",
    "\n"
   ]
  },
  {
   "cell_type": "code",
   "execution_count": null,
   "metadata": {},
   "outputs": [
    {
     "data": {
      "text/plain": [
       "False"
      ]
     },
     "execution_count": 6,
     "metadata": {},
     "output_type": "execute_result"
    }
   ],
   "source": [
    "if number1!=number2: print(True)\n",
    "else: print(False)"
   ]
  },
  {
   "cell_type": "code",
   "execution_count": null,
   "metadata": {},
   "outputs": [
    {
     "data": {
      "text/plain": [
       "False"
      ]
     },
     "execution_count": 10,
     "metadata": {},
     "output_type": "execute_result"
    }
   ],
   "source": [
    "number1=5\n",
    "number2=5\n",
    "number3=5\n",
    "\n",
    "if number1 == number2 ==number3: print(True)\n",
    "else: print(False)"
   ]
  },
  {
   "cell_type": "code",
   "execution_count": 18,
   "metadata": {},
   "outputs": [
    {
     "name": "stdout",
     "output_type": "stream",
     "text": [
      "True\n"
     ]
    }
   ],
   "source": [
    "number1=3\n",
    "number2=3\n",
    "number3=3\n",
    "\n",
    "if number1==number2 or number2==number3: print (True)\n",
    "else: print(False)"
   ]
  },
  {
   "cell_type": "code",
   "execution_count": 16,
   "metadata": {},
   "outputs": [
    {
     "name": "stdout",
     "output_type": "stream",
     "text": [
      "True\n"
     ]
    }
   ],
   "source": [
    "number1=5\n",
    "number2=3\n",
    "number3=5\n",
    "\n",
    "if number1>number2 and number1==number3: print(True)\n",
    "else: print(False)\n"
   ]
  },
  {
   "cell_type": "code",
   "execution_count": 24,
   "metadata": {},
   "outputs": [
    {
     "name": "stdout",
     "output_type": "stream",
     "text": [
      "number1 is not greater than number2 but number2 is greater than number3\n"
     ]
    }
   ],
   "source": [
    "number1=1\n",
    "number2=6\n",
    "number3=5\n",
    "\n",
    "if number1>number2: print(True)\n",
    "elif number2>number3: print(\"number1 is not greater than number2 but number2 is greater than number3\")\n",
    "else: print(False)"
   ]
  },
  {
   "cell_type": "code",
   "execution_count": null,
   "metadata": {},
   "outputs": [],
   "source": [
    "number1=1\n",
    "number2=6\n",
    "number3=5\n",
    "\n",
    "if number1==number2: print(True)\n",
    "elif number1==number3: print(\"number1 and number2 are not equal but number1 and number3 are equal\")\n",
    "else: print(False)"
   ]
  },
  {
   "cell_type": "code",
   "execution_count": 25,
   "metadata": {},
   "outputs": [
    {
     "name": "stdout",
     "output_type": "stream",
     "text": [
      "True\n"
     ]
    }
   ],
   "source": [
    "name1=\"Niko\"\n",
    "name2=\"Niko\"\n",
    "name3=\"Vilma\"\n",
    "\n",
    "if name1==name2: print(True)\n",
    "else: print(False)"
   ]
  },
  {
   "cell_type": "code",
   "execution_count": null,
   "metadata": {},
   "outputs": [
    {
     "name": "stdout",
     "output_type": "stream",
     "text": [
      "False\n"
     ]
    }
   ],
   "source": [
    "name1=\"Niko\"\n",
    "name2=\"Niko\"\n",
    "name3=\"Vilma\"\n",
    "\n",
    "if name1!=name2: print(True)\n",
    "else: print(False)"
   ]
  },
  {
   "cell_type": "code",
   "execution_count": 28,
   "metadata": {},
   "outputs": [
    {
     "name": "stdout",
     "output_type": "stream",
     "text": [
      "True\n"
     ]
    }
   ],
   "source": [
    "if name1==name2: print(True)\n",
    "elif name1==name3: print(\"only number1 and number3 are equal\")\n",
    "else: print(False)"
   ]
  }
 ],
 "metadata": {
  "kernelspec": {
   "display_name": "Python 3",
   "language": "python",
   "name": "python3"
  },
  "language_info": {
   "codemirror_mode": {
    "name": "ipython",
    "version": 3
   },
   "file_extension": ".py",
   "mimetype": "text/x-python",
   "name": "python",
   "nbconvert_exporter": "python",
   "pygments_lexer": "ipython3",
   "version": "3.13.0"
  }
 },
 "nbformat": 4,
 "nbformat_minor": 2
}
