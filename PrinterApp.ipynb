{
 "cells": [
  {
   "cell_type": "code",
   "execution_count": 26,
   "metadata": {},
   "outputs": [
    {
     "name": "stdout",
     "output_type": "stream",
     "text": [
      "Printer App\n",
      "This App is made by: Marius\n",
      "The value of number1 is 1\n",
      "The value of number2 is 2\n",
      "1 * 2 = 2\n",
      "1 / 2 = 0.5\n",
      "1 + 2 = 3\n",
      "1 - 2 = -1\n"
     ]
    }
   ],
   "source": [
    "creator=\"Marius\"\n",
    "print(\"Printer App\")\n",
    "print(\"This App is made by: \" + creator)\n",
    "\n",
    "number1=1\n",
    "number2=2\n",
    "x=number1*number2\n",
    "y=number1/number2\n",
    "z=number1+number2\n",
    "e=number1-number2\n",
    "# print(number1)\n",
    "\n",
    "print(\"The value of number1 is \" + str(number1))\n",
    "\n",
    "print(\"The value of number2 is \" + str(number2))\n",
    "\n",
    "print(str(number1) + \" * \" + str(number2) + \" = \" + str(x))\n",
    "\n",
    "print(str(number1)+ \" / \" + str(number2)+ \" = \" + str(y))\n",
    "\n",
    "print(str(number1)+ \" + \" + str(number2)+ \" = \" + str(z))\n",
    "\n",
    "print(str(number1)+ \" - \" + str(number2)+ \" = \" + str(e))\n"
   ]
  }
 ],
 "metadata": {
  "kernelspec": {
   "display_name": "Python 3",
   "language": "python",
   "name": "python3"
  },
  "language_info": {
   "codemirror_mode": {
    "name": "ipython",
    "version": 3
   },
   "file_extension": ".py",
   "mimetype": "text/x-python",
   "name": "python",
   "nbconvert_exporter": "python",
   "pygments_lexer": "ipython3",
   "version": "3.13.0"
  }
 },
 "nbformat": 4,
 "nbformat_minor": 2
}
